{
 "cells": [
  {
   "cell_type": "code",
   "execution_count": null,
   "id": "25d45031",
   "metadata": {},
   "outputs": [],
   "source": [
    "import pandas as pd\n",
    "\n",
    "df1 = pd.DataFrame(\n",
    "    {\n",
    "        'PassengerId': [1,2,3],\n",
    "        'Name': ['Ben', 'Yuval', 'Dani']\n",
    "    }\n",
    ")\n",
    "\n",
    "df2 = pd.DataFrame(\n",
    "    {\n",
    "        'PassengerId': [4,5,6],\n",
    "        'Name': ['David', 'Syd', 'Eden']\n",
    "    }\n",
    ")\n",
    "\n",
    "df3 = pd.DataFrame(\n",
    "    {\n",
    "        'Fare': [30,20,60,200,1],\n",
    "        'Ticket': ['A123', 'B456', 'C789','D123', 'E456', 'F789']\n",
    "    },\n",
    "    index = [1,2,3,4,5,6]\n",
    ")\n",
    "\n",
    "df4 = pd.concat()\n"
   ]
  }
 ],
 "metadata": {
  "language_info": {
   "name": "python"
  }
 },
 "nbformat": 4,
 "nbformat_minor": 5
}
