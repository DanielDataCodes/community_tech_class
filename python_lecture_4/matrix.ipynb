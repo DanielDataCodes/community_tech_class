{
 "cells": [
  {
   "cell_type": "code",
   "execution_count": 5,
   "id": "4fcf2971",
   "metadata": {},
   "outputs": [
    {
     "name": "stdout",
     "output_type": "stream",
     "text": [
      "Matrix is NOT Square\n"
     ]
    },
    {
     "data": {
      "text/plain": [
       "False"
      ]
     },
     "execution_count": 5,
     "metadata": {},
     "output_type": "execute_result"
    }
   ],
   "source": [
    "import numpy as np\n",
    "a = np.array([[1,2,3], [5,4,6]])\n",
    "\n",
    "def mat_is_square(mat):\n",
    "    if mat.shape[0] == mat.shape[1]:\n",
    "        print(\"Matrix is Square\")\n",
    "        return True\n",
    "    else:\n",
    "        print(\"Matrix is NOT Square\")\n",
    "        return False\n",
    "\n",
    "mat_is_square(a)"
   ]
  },
  {
   "cell_type": "code",
   "execution_count": 2,
   "id": "63eb1bfe",
   "metadata": {},
   "outputs": [
    {
     "name": "stdout",
     "output_type": "stream",
     "text": [
      "Collecting numpy\n",
      "  Downloading numpy-2.2.5-cp313-cp313-win_amd64.whl.metadata (60 kB)\n",
      "Downloading numpy-2.2.5-cp313-cp313-win_amd64.whl (12.6 MB)\n",
      "   ---------------------------------------- 0.0/12.6 MB ? eta -:--:--\n",
      "   -------------------------- ------------- 8.4/12.6 MB 43.7 MB/s eta 0:00:01\n",
      "   ---------------------------------------  12.6/12.6 MB 34.3 MB/s eta 0:00:01\n",
      "   ---------------------------------------- 12.6/12.6 MB 29.2 MB/s eta 0:00:00\n",
      "Installing collected packages: numpy\n",
      "Successfully installed numpy-2.2.5\n"
     ]
    },
    {
     "name": "stderr",
     "output_type": "stream",
     "text": [
      "  WARNING: The scripts f2py.exe and numpy-config.exe are installed in 'c:\\Users\\epste\\AppData\\Local\\Programs\\Python\\Python313\\Scripts' which is not on PATH.\n",
      "  Consider adding this directory to PATH or, if you prefer to suppress this warning, use --no-warn-script-location.\n",
      "\n",
      "[notice] A new release of pip is available: 25.0.1 -> 25.1.1\n",
      "[notice] To update, run: python.exe -m pip install --upgrade pip\n"
     ]
    }
   ],
   "source": [
    "import sys\n",
    "!{sys.executable} -m pip install numpy\n"
   ]
  },
  {
   "cell_type": "code",
   "execution_count": 6,
   "id": "347ebf34",
   "metadata": {},
   "outputs": [
    {
     "name": "stdout",
     "output_type": "stream",
     "text": [
      "[[1 2 3]\n",
      " [5 4 6]]\n"
     ]
    }
   ],
   "source": [
    "import numpy as np\n",
    "\n",
    "a = np.array([[1, 2, 3], [5, 4, 6]])\n",
    "print(a)\n"
   ]
  },
  {
   "cell_type": "code",
   "execution_count": 11,
   "id": "a81daf02",
   "metadata": {},
   "outputs": [
    {
     "name": "stdout",
     "output_type": "stream",
     "text": [
      "Matrix is NOT Square\n"
     ]
    },
    {
     "data": {
      "text/plain": [
       "False"
      ]
     },
     "execution_count": 11,
     "metadata": {},
     "output_type": "execute_result"
    }
   ],
   "source": [
    "import numpy as np\n",
    "\n",
    "a = np.array([[1, 2, 3], [5, 4, 6]])  # List of lists\n",
    "\n",
    "def mat_is_square(mat):\n",
    "    if mat.shape[0] == mat.shape[1]:\n",
    "        print(\"Matrix is Square\")\n",
    "        return True\n",
    "    else:\n",
    "        print(\"Matrix is NOT Square\")\n",
    "        return False\n",
    "\n",
    "mat_is_square(a)\n"
   ]
  },
  {
   "cell_type": "markdown",
   "id": "532dd670",
   "metadata": {},
   "source": [
    "Its possible to create various vectors, arrays and tensors with numpy. \n",
    "import numpy as np\n",
    "# Create ndarrays with numpy"
   ]
  },
  {
   "cell_type": "code",
   "execution_count": 14,
   "id": "4e94cf5c",
   "metadata": {},
   "outputs": [
    {
     "name": "stdout",
     "output_type": "stream",
     "text": [
      "[[0. 0. 0.]\n",
      " [0. 0. 0.]] [[1. 1. 1.]\n",
      " [1. 1. 1.]\n",
      " [1. 1. 1.]] [[1. 0. 0.]\n",
      " [0. 1. 0.]\n",
      " [0. 0. 1.]] [[2 3 0]\n",
      " [7 1 8]\n",
      " [8 1 4]]\n",
      "[0 2 4 6 8]\n"
     ]
    }
   ],
   "source": [
    "b = np.zeros((2, 3))\n",
    "c = np.ones((3, 3))\n",
    "d = np.eye(3)\n",
    "e = np.random.randint(0, 10, (3,3))\n",
    "f = np.arange(0, 10, 2)   \n",
    "\n",
    "print(b, c, d, e)\n",
    "print(f)"
   ]
  }
 ],
 "metadata": {
  "kernelspec": {
   "display_name": "Python 3",
   "language": "python",
   "name": "python3"
  },
  "language_info": {
   "codemirror_mode": {
    "name": "ipython",
    "version": 3
   },
   "file_extension": ".py",
   "mimetype": "text/x-python",
   "name": "python",
   "nbconvert_exporter": "python",
   "pygments_lexer": "ipython3",
   "version": "3.13.3"
  }
 },
 "nbformat": 4,
 "nbformat_minor": 5
}
