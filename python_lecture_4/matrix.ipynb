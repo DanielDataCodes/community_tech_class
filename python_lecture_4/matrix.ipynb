{
 "cells": [
  {
   "cell_type": "code",
   "execution_count": 5,
   "id": "4fcf2971",
   "metadata": {},
   "outputs": [
    {
     "name": "stdout",
     "output_type": "stream",
     "text": [
      "Matrix is NOT Square\n"
     ]
    },
    {
     "data": {
      "text/plain": [
       "False"
      ]
     },
     "execution_count": 5,
     "metadata": {},
     "output_type": "execute_result"
    }
   ],
   "source": [
    "import numpy as np\n",
    "a = np.array([[1,2,3], [5,4,6]])\n",
    "\n",
    "def mat_is_square(mat):\n",
    "    if mat.shape[0] == mat.shape[1]:\n",
    "        print(\"Matrix is Square\")\n",
    "        return True\n",
    "    else:\n",
    "        print(\"Matrix is NOT Square\")\n",
    "        return False\n",
    "\n",
    "mat_is_square(a)"
   ]
  },
  {
   "cell_type": "code",
   "execution_count": 2,
   "id": "63eb1bfe",
   "metadata": {},
   "outputs": [
    {
     "name": "stdout",
     "output_type": "stream",
     "text": [
      "Collecting numpy\n",
      "  Downloading numpy-2.2.5-cp313-cp313-win_amd64.whl.metadata (60 kB)\n",
      "Downloading numpy-2.2.5-cp313-cp313-win_amd64.whl (12.6 MB)\n",
      "   ---------------------------------------- 0.0/12.6 MB ? eta -:--:--\n",
      "   -------------------------- ------------- 8.4/12.6 MB 43.7 MB/s eta 0:00:01\n",
      "   ---------------------------------------  12.6/12.6 MB 34.3 MB/s eta 0:00:01\n",
      "   ---------------------------------------- 12.6/12.6 MB 29.2 MB/s eta 0:00:00\n",
      "Installing collected packages: numpy\n",
      "Successfully installed numpy-2.2.5\n"
     ]
    },
    {
     "name": "stderr",
     "output_type": "stream",
     "text": [
      "  WARNING: The scripts f2py.exe and numpy-config.exe are installed in 'c:\\Users\\epste\\AppData\\Local\\Programs\\Python\\Python313\\Scripts' which is not on PATH.\n",
      "  Consider adding this directory to PATH or, if you prefer to suppress this warning, use --no-warn-script-location.\n",
      "\n",
      "[notice] A new release of pip is available: 25.0.1 -> 25.1.1\n",
      "[notice] To update, run: python.exe -m pip install --upgrade pip\n"
     ]
    }
   ],
   "source": [
    "import sys\n",
    "!{sys.executable} -m pip install numpy\n"
   ]
  },
  {
   "cell_type": "code",
   "execution_count": 6,
   "id": "347ebf34",
   "metadata": {},
   "outputs": [
    {
     "name": "stdout",
     "output_type": "stream",
     "text": [
      "[[1 2 3]\n",
      " [5 4 6]]\n"
     ]
    }
   ],
   "source": [
    "import numpy as np\n",
    "\n",
    "a = np.array([[1, 2, 3], [5, 4, 6]])\n",
    "print(a)\n"
   ]
  },
  {
   "cell_type": "code",
   "execution_count": 11,
   "id": "a81daf02",
   "metadata": {},
   "outputs": [
    {
     "name": "stdout",
     "output_type": "stream",
     "text": [
      "Matrix is NOT Square\n"
     ]
    },
    {
     "data": {
      "text/plain": [
       "False"
      ]
     },
     "execution_count": 11,
     "metadata": {},
     "output_type": "execute_result"
    }
   ],
   "source": [
    "import numpy as np\n",
    "\n",
    "a = np.array([[1, 2, 3], [5, 4, 6]])  # List of lists\n",
    "\n",
    "def mat_is_square(mat):\n",
    "    if mat.shape[0] == mat.shape[1]:\n",
    "        print(\"Matrix is Square\")\n",
    "        return True\n",
    "    else:\n",
    "        print(\"Matrix is NOT Square\")\n",
    "        return False\n",
    "\n",
    "mat_is_square(a)\n"
   ]
  },
  {
   "cell_type": "markdown",
   "id": "532dd670",
   "metadata": {},
   "source": [
    "Its possible to create various vectors, arrays and tensors with numpy. \n",
    "import numpy as np\n",
    "# Create ndarrays with numpy"
   ]
  },
  {
   "cell_type": "code",
   "execution_count": 14,
   "id": "4e94cf5c",
   "metadata": {},
   "outputs": [
    {
     "name": "stdout",
     "output_type": "stream",
     "text": [
      "[[0. 0. 0.]\n",
      " [0. 0. 0.]] [[1. 1. 1.]\n",
      " [1. 1. 1.]\n",
      " [1. 1. 1.]] [[1. 0. 0.]\n",
      " [0. 1. 0.]\n",
      " [0. 0. 1.]] [[2 3 0]\n",
      " [7 1 8]\n",
      " [8 1 4]]\n",
      "[0 2 4 6 8]\n"
     ]
    }
   ],
   "source": [
    "b = np.zeros((2, 3))\n",
    "c = np.ones((3, 3))\n",
    "d = np.eye(3)\n",
    "e = np.random.randint(0, 10, (3,3))\n",
    "f = np.arange(0, 10, 2)   \n",
    "\n",
    "print(b, c, d, e)\n",
    "print(f)"
   ]
  },
  {
   "cell_type": "code",
   "execution_count": null,
   "id": "434a6831",
   "metadata": {},
   "outputs": [
    {
     "name": "stdout",
     "output_type": "stream",
     "text": [
      "Original 6x6 Matrix:\n",
      " [[ 1  2  3  4  5  6]\n",
      " [ 7  8  9 10 11 12]\n",
      " [13 14 15 16 17 18]\n",
      " [19 20 21 22 23 24]\n",
      " [25 26 27 28 29 30]\n",
      " [31 32 33 34 35 36]]\n"
     ]
    }
   ],
   "source": [
    "#Step 1: Create a 6×6 matrix filled with numbers 1 to 36\n",
    "import numpy as np\n",
    "\n",
    "matrix = np.arange(1, 37).reshape(6, 6)\n",
    "print(\"Original 6x6 Matrix:\\n\", matrix)"
   ]
  },
  {
   "cell_type": "code",
   "execution_count": 19,
   "id": "99978db7",
   "metadata": {},
   "outputs": [
    {
     "name": "stdout",
     "output_type": "stream",
     "text": [
      "\n",
      "4x4 Center Submatrix:n\n",
      " [[ 8  9 10 11]\n",
      " [14 15 16 17]\n",
      " [20 21 22 23]\n",
      " [26 27 28 29]]\n"
     ]
    }
   ],
   "source": [
    "#Step 2: Extract a 4×4 submatrix from the center\n",
    "center_submatrix = matrix[1:5, 1:5]\n",
    "print(\"\\n4x4 Center Submatrix:n\\n\", center_submatrix)"
   ]
  },
  {
   "cell_type": "code",
   "execution_count": 20,
   "id": "9a3d8d8e",
   "metadata": {},
   "outputs": [
    {
     "name": "stdout",
     "output_type": "stream",
     "text": [
      "\n",
      "Transposed Matrix:\n",
      " [[ 1  7 13 19 25 31]\n",
      " [ 2  8 14 20 26 32]\n",
      " [ 3  9 15 21 27 33]\n",
      " [ 4 10 16 22 28 34]\n",
      " [ 5 11 17 23 29 35]\n",
      " [ 6 12 18 24 30 36]]\n"
     ]
    }
   ],
   "source": [
    "#Step 3: Transpose the original matrix and assign to a new variable\n",
    "transposed = matrix.T\n",
    "print(\"\\nTransposed Matrix:\\n\", transposed)"
   ]
  },
  {
   "cell_type": "code",
   "execution_count": 21,
   "id": "2d758bb2",
   "metadata": {},
   "outputs": [
    {
     "name": "stdout",
     "output_type": "stream",
     "text": [
      "[[ 1  7 13 19 25 31]\n",
      " [-1 -1 -1 -1 -1 -1]\n",
      " [ 3  9 15 21 27 33]\n",
      " [-1 -1 -1 -1 -1 -1]\n",
      " [ 5 11 17 23 29 35]\n",
      " [-1 -1 -1 -1 -1 -1]]\n"
     ]
    }
   ],
   "source": [
    "#Step 4: Replace all even numbers in the transposed matrix with -1\n",
    "transposed[transposed % 2 == 0] = -1\n",
    "print(transposed)"
   ]
  },
  {
   "cell_type": "code",
   "execution_count": 22,
   "id": "d1bc27f7",
   "metadata": {},
   "outputs": [
    {
     "name": "stdout",
     "output_type": "stream",
     "text": [
      "[ 1  7 13 19 25 31 -1 -1 -1 -1 -1 -1  3  9 15 21 27 33 -1 -1 -1 -1 -1 -1\n",
      "  5 11 17 23 29 35 -1 -1 -1 -1 -1 -1]\n"
     ]
    }
   ],
   "source": [
    "#Step 5: Flatten the modified matrix into a 1D array\n",
    "flattened = transposed.flatten()\n",
    "print(flattened)"
   ]
  },
  {
   "cell_type": "code",
   "execution_count": null,
   "id": "617c64a4",
   "metadata": {},
   "outputs": [
    {
     "name": "stdout",
     "output_type": "stream",
     "text": [
      "[[[[ 1  7]\n",
      "   [13 19]]\n",
      "\n",
      "  [[25 31]\n",
      "   [-1 -1]]]\n",
      "\n",
      "\n",
      " [[[-1 -1]\n",
      "   [-1 -1]]\n",
      "\n",
      "  [[ 3  9]\n",
      "   [15 21]]]]\n"
     ]
    },
    {
     "ename": "",
     "evalue": "",
     "output_type": "error",
     "traceback": [
      "\u001b[1;31mThe Kernel crashed while executing code in the current cell or a previous cell. \n",
      "\u001b[1;31mPlease review the code in the cell(s) to identify a possible cause of the failure. \n",
      "\u001b[1;31mClick <a href='https://aka.ms/vscodeJupyterKernelCrash'>here</a> for more info. \n",
      "\u001b[1;31mView Jupyter <a href='command:jupyter.viewOutput'>log</a> for further details."
     ]
    }
   ],
   "source": [
    "#Step 6: Reshape this 1D array into a tensor of shape (2, 2, 2, 2)\n",
    "\n",
    "tensor = flattened[:16].reshape(2,2,2,2)\n",
    "print(tensor)"
   ]
  },
  {
   "cell_type": "code",
   "execution_count": 1,
   "id": "ee7c74fc",
   "metadata": {},
   "outputs": [
    {
     "data": {
      "text/plain": [
       "np.int64(0)"
      ]
     },
     "execution_count": 1,
     "metadata": {},
     "output_type": "execute_result"
    }
   ],
   "source": [
    "from numpy import array, argmin, sqrt, sum\n",
    "observation = array([111.0, 188.0])\n",
    "codes = array([[102.0, 203.0],\n",
    "                [132.0, 193.0],\n",
    "                [45.0, 155.0],\n",
    "                [57.0, 173.0]])\n",
    "diff = codes - observation# the broadcast happens here\n",
    "dist = sqrt(sum(diff ** 2,axis =- 1))\n",
    "argmin(dist)"
   ]
  },
  {
   "cell_type": "code",
   "execution_count": null,
   "id": "69af976e",
   "metadata": {},
   "outputs": [],
   "source": []
  }
 ],
 "metadata": {
  "kernelspec": {
   "display_name": "Python 3",
   "language": "python",
   "name": "python3"
  },
  "language_info": {
   "codemirror_mode": {
    "name": "ipython",
    "version": 3
   },
   "file_extension": ".py",
   "mimetype": "text/x-python",
   "name": "python",
   "nbconvert_exporter": "python",
   "pygments_lexer": "ipython3",
   "version": "3.13.3"
  }
 },
 "nbformat": 4,
 "nbformat_minor": 5
}
