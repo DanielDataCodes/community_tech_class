{
 "cells": [
  {
   "cell_type": "code",
   "execution_count": 11,
   "id": "e57d5a08",
   "metadata": {},
   "outputs": [
    {
     "name": "stdout",
     "output_type": "stream",
     "text": [
      "  *\n",
      " ***\n",
      "*****\n"
     ]
    }
   ],
   "source": [
    "# triangle\n",
    "pattern = input(\"Which pyramid you you like to print: \")\n",
    "rows = int(input(\"How many rows do you want: \"))\n",
    "\n",
    "if pattern == \"right\":\n",
    "    result = \"*\"\n",
    "    for i in range(rows):\n",
    "        result = result * (i+1)\n",
    "        print(result)\n",
    "elif pattern == \"inverted\":\n",
    "    # For an inverted triangle, rows go from 'rows' down to 1 stars\n",
    "    for i in range(rows, 0, -1): # Start from 'rows', go down to 1 (exclusive of 0), step -1\n",
    "        print(\"*\" * i)\n",
    "elif pattern == \"pyramid\":\n",
    "    for i in range(1, rows + 1):\n",
    "        spaces = \" \" * (rows - i)\n",
    "        stars = \"*\" * (2 * i - 1)\n",
    "        print(spaces + stars)\n"
   ]
  }
 ],
 "metadata": {
  "kernelspec": {
   "display_name": "Python 3",
   "language": "python",
   "name": "python3"
  },
  "language_info": {
   "codemirror_mode": {
    "name": "ipython",
    "version": 3
   },
   "file_extension": ".py",
   "mimetype": "text/x-python",
   "name": "python",
   "nbconvert_exporter": "python",
   "pygments_lexer": "ipython3",
   "version": "3.13.3"
  }
 },
 "nbformat": 4,
 "nbformat_minor": 5
}
