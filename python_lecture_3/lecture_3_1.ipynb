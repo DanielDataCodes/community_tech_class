{
 "cells": [
  {
   "cell_type": "code",
   "execution_count": 25,
   "id": "50b8df30",
   "metadata": {},
   "outputs": [
    {
     "name": "stdout",
     "output_type": "stream",
     "text": [
      "no silly! you must choose a valid operation(+,-,*,/)\n",
      "Ok bye then!\n"
     ]
    }
   ],
   "source": [
    "user_input1 = float(input(\"Enter a number: \"))\n",
    "user_input2 = float(input(\"Enter another number: \"))\n",
    "user_input3 = input(\"enter an Operation(+,-,*,/): \")\n",
    "\n",
    "if user_input3 not in ['+', '-', '*', '/']:\n",
    "    print(\"no silly! you must choose a valid operation(+,-,*,/)\")\n",
    "\n",
    "    match user_input3:\n",
    "        case \"+\":\n",
    "            print(user_input1 + user_input2)\n",
    "        case \"-\":\n",
    "            print(user_input1 - user_input2)\n",
    "        case \"*\":\n",
    "            print(user_input1 * user_input2)\n",
    "        case \"/\":\n",
    "            if user_input2 == 0:\n",
    "                print(\"I'm sorry. I can't divide by zero\")\n",
    "            else:\n",
    "                print(user_input1 / user_input2)\n",
    "    User_input4 = input(\"would you like to perform another equation? (Y/N)\")\n",
    "    if User_input4 == \"N\" or \"n\":\n",
    "        print(\"Ok bye then!\")\n",
    "\n",
    "    "
   ]
  }
 ],
 "metadata": {
  "kernelspec": {
   "display_name": "Python 3",
   "language": "python",
   "name": "python3"
  },
  "language_info": {
   "codemirror_mode": {
    "name": "ipython",
    "version": 3
   },
   "file_extension": ".py",
   "mimetype": "text/x-python",
   "name": "python",
   "nbconvert_exporter": "python",
   "pygments_lexer": "ipython3",
   "version": "3.13.3"
  }
 },
 "nbformat": 4,
 "nbformat_minor": 5
}
