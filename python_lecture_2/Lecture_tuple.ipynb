{
 "cells": [
  {
   "cell_type": "code",
   "execution_count": 8,
   "id": "4bd20661",
   "metadata": {},
   "outputs": [
    {
     "name": "stdout",
     "output_type": "stream",
     "text": [
      "Hello my name is dani, I am 30 years old, and my favourite programing language is SQL.\n"
     ]
    }
   ],
   "source": [
    "my_tuple = \"dani\", \"30\", \"SQL\"\n",
    "name, age, favourite_language = my_tuple\n",
    "print(f\"Hello my name is {name}, I am {age} years old, and my favourite programing language is {favourite_language}.\")"
   ]
  },
  {
   "cell_type": "code",
   "execution_count": 12,
   "id": "affd0662",
   "metadata": {},
   "outputs": [
    {
     "data": {
      "text/plain": [
       "float"
      ]
     },
     "execution_count": 12,
     "metadata": {},
     "output_type": "execute_result"
    }
   ],
   "source": [
    "type(11.22)"
   ]
  },
  {
   "cell_type": "code",
   "execution_count": 25,
   "id": "6bb906a0",
   "metadata": {},
   "outputs": [
    {
     "name": "stdout",
     "output_type": "stream",
     "text": [
      "{'name': 'alice', 'age': 25, 'city': 'new York'}\n"
     ]
    }
   ],
   "source": [
    "keys = [\"name\", \"age\", \"city\"]\n",
    "values = [\"alice\", 25, \"new York\"]\n",
    "dict1 = dict(zip(keys,values))\n",
    "print(dict1)"
   ]
  },
  {
   "cell_type": "code",
   "execution_count": 29,
   "id": "23c7384b",
   "metadata": {},
   "outputs": [
    {
     "data": {
      "text/plain": [
       "int"
      ]
     },
     "execution_count": 29,
     "metadata": {},
     "output_type": "execute_result"
    }
   ],
   "source": [
    "num_str = \"150\"\n",
    "num_int = int(num_str)\n",
    "type(num_int)"
   ]
  },
  {
   "cell_type": "code",
   "execution_count": 30,
   "id": "7bc82524",
   "metadata": {},
   "outputs": [
    {
     "ename": "TypeError",
     "evalue": "unsupported operand type(s) for +: 'int' and 'str'",
     "output_type": "error",
     "traceback": [
      "\u001b[31m---------------------------------------------------------------------------\u001b[39m",
      "\u001b[31mTypeError\u001b[39m                                 Traceback (most recent call last)",
      "\u001b[36mCell\u001b[39m\u001b[36m \u001b[39m\u001b[32mIn[30]\u001b[39m\u001b[32m, line 3\u001b[39m\n\u001b[32m      1\u001b[39m num_int = \u001b[32m123\u001b[39m\n\u001b[32m      2\u001b[39m num_str1 = \u001b[33m\"\u001b[39m\u001b[33mnumbers\u001b[39m\u001b[33m\"\u001b[39m\n\u001b[32m----> \u001b[39m\u001b[32m3\u001b[39m \u001b[38;5;28mprint\u001b[39m(\u001b[43mnum_int\u001b[49m\u001b[43m+\u001b[49m\u001b[43mnum_str1\u001b[49m)\n",
      "\u001b[31mTypeError\u001b[39m: unsupported operand type(s) for +: 'int' and 'str'"
     ]
    }
   ],
   "source": [
    "num_int = 123\n",
    "num_str1 = \"numbers\"\n",
    "print(num_int+num_str1)"
   ]
  }
 ],
 "metadata": {
  "kernelspec": {
   "display_name": "Python 3",
   "language": "python",
   "name": "python3"
  },
  "language_info": {
   "codemirror_mode": {
    "name": "ipython",
    "version": 3
   },
   "file_extension": ".py",
   "mimetype": "text/x-python",
   "name": "python",
   "nbconvert_exporter": "python",
   "pygments_lexer": "ipython3",
   "version": "3.13.3"
  }
 },
 "nbformat": 4,
 "nbformat_minor": 5
}
