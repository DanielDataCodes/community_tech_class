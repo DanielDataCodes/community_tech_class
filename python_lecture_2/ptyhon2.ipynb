{
 "cells": [
  {
   "cell_type": "code",
   "execution_count": 11,
   "id": "00908136",
   "metadata": {},
   "outputs": [
    {
     "name": "stdout",
     "output_type": "stream",
     "text": [
      "['apple', 'pear', 'plum']\n"
     ]
    }
   ],
   "source": [
    "fruit_list = [\"apple\",\"pear\",\"plum\"]\n",
    "print(fruit_list)"
   ]
  },
  {
   "cell_type": "code",
   "execution_count": 13,
   "id": "1d4990df",
   "metadata": {},
   "outputs": [
    {
     "name": "stdout",
     "output_type": "stream",
     "text": [
      "['apple', 'pear', 'plum', 'kiwi', 'kiwi']\n"
     ]
    }
   ],
   "source": [
    "fruit_list.append(\"kiwi\")\n",
    "print(fruit_list)"
   ]
  },
  {
   "cell_type": "code",
   "execution_count": 14,
   "id": "ded62a89",
   "metadata": {},
   "outputs": [
    {
     "name": "stdout",
     "output_type": "stream",
     "text": [
      "['sunday', 'monday', 'tuesday', 'wednesday', 'thursday', 'friday']\n"
     ]
    }
   ],
   "source": [
    "week = [\"sunday\", \"monday\", \"tuesday\", \"wednesday\", \"thursday\", \"friday\"]\n",
    "print(week)"
   ]
  },
  {
   "cell_type": "code",
   "execution_count": 16,
   "id": "7077e0df",
   "metadata": {},
   "outputs": [
    {
     "name": "stdout",
     "output_type": "stream",
     "text": [
      "['sunday', 'monday', 'tuesday', 'wednesday', 'thursday', 'friday', 'shabbos']\n"
     ]
    }
   ],
   "source": [
    "week.insert(6, \"shabbos\")\n",
    "print(week)"
   ]
  },
  {
   "cell_type": "code",
   "execution_count": 21,
   "id": "1e37d0d4",
   "metadata": {},
   "outputs": [
    {
     "name": "stdout",
     "output_type": "stream",
     "text": [
      "[1, 2, 3, 4, 5, 6, 7, 8, 9, 10]\n"
     ]
    }
   ],
   "source": [
    "numbers= [1,2,3,4,5,6,7,8,9,10]\n",
    "print(numbers)"
   ]
  },
  {
   "cell_type": "code",
   "execution_count": 25,
   "id": "961dd80c",
   "metadata": {},
   "outputs": [
    {
     "name": "stdout",
     "output_type": "stream",
     "text": [
      "[1, 2, 3, 4, 6, 7, 8, 9, 10]\n"
     ]
    }
   ],
   "source": [
    "numbers.remove(5)\n",
    "print(numbers)"
   ]
  },
  {
   "cell_type": "code",
   "execution_count": 29,
   "id": "7dfd4621",
   "metadata": {},
   "outputs": [
    {
     "name": "stdout",
     "output_type": "stream",
     "text": [
      "['red', 'blue', 'green', 'orange', 'banana']\n"
     ]
    }
   ],
   "source": [
    "colours = [\"red\", \"blue\", \"green\", \"orange\", \"banana\"]\n",
    "print(colours)"
   ]
  },
  {
   "cell_type": "code",
   "execution_count": 30,
   "id": "ae7d374f",
   "metadata": {},
   "outputs": [
    {
     "name": "stdout",
     "output_type": "stream",
     "text": [
      "['red', 'blue', 'green', 'orange']\n"
     ]
    }
   ],
   "source": [
    "colours.pop()\n",
    "print(colours)"
   ]
  }
 ],
 "metadata": {
  "kernelspec": {
   "display_name": "Python 3",
   "language": "python",
   "name": "python3"
  },
  "language_info": {
   "codemirror_mode": {
    "name": "ipython",
    "version": 3
   },
   "file_extension": ".py",
   "mimetype": "text/x-python",
   "name": "python",
   "nbconvert_exporter": "python",
   "pygments_lexer": "ipython3",
   "version": "3.13.3"
  }
 },
 "nbformat": 4,
 "nbformat_minor": 5
}
