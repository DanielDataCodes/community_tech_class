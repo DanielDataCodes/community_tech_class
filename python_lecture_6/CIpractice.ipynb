{
 "cells": [
  {
   "cell_type": "markdown",
   "id": "abebcdae",
   "metadata": {},
   "source": [
    "Confidence Interval Practice"
   ]
  },
  {
   "cell_type": "code",
   "execution_count": null,
   "id": "8a5b467f",
   "metadata": {},
   "outputs": [
    {
     "name": "stdout",
     "output_type": "stream",
     "text": [
      "95% Con Interval (972.2814141774874, 1027.7185858225128)\n"
     ]
    },
    {
     "ename": "",
     "evalue": "",
     "output_type": "error",
     "traceback": [
      "\u001b[1;31mThe Kernel crashed while executing code in the current cell or a previous cell. \n",
      "\u001b[1;31mPlease review the code in the cell(s) to identify a possible cause of the failure. \n",
      "\u001b[1;31mClick <a href='https://aka.ms/vscodeJupyterKernelCrash'>here</a> for more info. \n",
      "\u001b[1;31mView Jupyter <a href='command:jupyter.viewOutput'>log</a> for further details."
     ]
    }
   ],
   "source": [
    "import numpy as np\n",
    "n = 60\n",
    "xbar = 1000\n",
    "stdev = 200\n",
    "Z = 1.96\n",
    "\n",
    "lower_ci = xbar - Z*(stdev/np.sqrt(stdev))\n",
    "upper_ci = xbar + Z*(stdev/np.sqrt(stdev))\n",
    "\n",
    "print(f\"95% Con Interval ({lower_ci}, {upper_ci})\")"
   ]
  }
 ],
 "metadata": {
  "kernelspec": {
   "display_name": "Python 3",
   "language": "python",
   "name": "python3"
  },
  "language_info": {
   "codemirror_mode": {
    "name": "ipython",
    "version": 3
   },
   "file_extension": ".py",
   "mimetype": "text/x-python",
   "name": "python",
   "nbconvert_exporter": "python",
   "pygments_lexer": "ipython3",
   "version": "3.13.3"
  }
 },
 "nbformat": 4,
 "nbformat_minor": 5
}
